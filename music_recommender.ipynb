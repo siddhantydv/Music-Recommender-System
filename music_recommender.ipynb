{
  "cells": [
    {
      "cell_type": "markdown",
      "metadata": {},
      "source": [
        "# Music Recommender System using TF-IDF and Cosine Similarity"
      ]
    },
    {
      "cell_type": "code",
      "execution_count": null,
      "metadata": {},
      "outputs": [],
      "source": [
        "import pandas as pd\n",
        "from sklearn.feature_extraction.text import TfidfVectorizer\n",
        "from sklearn.metrics.pairwise import cosine_similarity\n\n",
        "# Sample dataset\n",
        "songs = pd.DataFrame({\n",
        "    'title': ['Song A', 'Song B', 'Song C'],\n",
        "    'description': ['rock energetic', 'pop love', 'jazz instrumental']\n",
        "})\n\n",
        "tfidf = TfidfVectorizer()\n",
        "tfidf_matrix = tfidf.fit_transform(songs['description'])\n",
        "cos_sim = cosine_similarity(tfidf_matrix, tfidf_matrix)\n",
        "print(cos_sim)"
      ]
    }
  ],
  "metadata": {},
  "nbformat": 4,
  "nbformat_minor": 5
}